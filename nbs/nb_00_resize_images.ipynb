{
 "cells": [
  {
   "cell_type": "markdown",
   "metadata": {},
   "source": [
    "In this notebook, we resize all training and test images for GLDV2 to be of shape `512x512` without mantaining the aspect ratio. We also use `Joblib` to parallelize the resize operation and use 36 cores to perform this operation. "
   ]
  },
  {
   "cell_type": "code",
   "execution_count": 1,
   "metadata": {},
   "outputs": [],
   "source": [
    "import os\n",
    "import glob\n",
    "from tqdm import tqdm\n",
    "from PIL import Image\n",
    "from joblib import Parallel, delayed\n",
    "import argparse\n",
    "import albumentations\n",
    "from pathlib import Path"
   ]
  },
  {
   "cell_type": "markdown",
   "metadata": {},
   "source": [
    "Based on the variables in `Args`, we resize the images in `input_folder` to `output_folder`."
   ]
  },
  {
   "cell_type": "code",
   "execution_count": 2,
   "metadata": {},
   "outputs": [
    {
     "data": {
      "text/plain": [
       "('/home/ubuntu/repos/kaggle/google-landmark-retrieval-2020/data/train/',\n",
       " '/home/ubuntu/repos/kaggle/google-landmark-retrieval-2020/data/train_512x512/',\n",
       " 512)"
      ]
     },
     "execution_count": 2,
     "metadata": {},
     "output_type": "execute_result"
    }
   ],
   "source": [
    "class Args:\n",
    "    input_folder  = '/home/ubuntu/repos/kaggle/google-landmark-retrieval-2020/data/train/' \n",
    "    output_folder = '/home/ubuntu/repos/kaggle/google-landmark-retrieval-2020/data/train_512x512/'\n",
    "    sz = 512\n",
    "    \n",
    "args = Args()\n",
    "args.input_folder, args.output_folder, args.sz"
   ]
  },
  {
   "cell_type": "code",
   "execution_count": 3,
   "metadata": {},
   "outputs": [],
   "source": [
    "def save_file(img, input_path, args=None, fn=None):\n",
    "    path = input_path\n",
    "    path = str(path)\n",
    "    out_path = path.replace(args.input_folder, args.output_folder) \n",
    "    out_path = Path(out_path)\n",
    "    if not os.path.exists(out_path.parent):\n",
    "        os.makedirs(out_path.parent, exist_ok=True)         \n",
    "    img.save(str(out_path))  "
   ]
  },
  {
   "cell_type": "code",
   "execution_count": 4,
   "metadata": {},
   "outputs": [],
   "source": [
    "def resize_image(path, sz: tuple, args):\n",
    "    fn  = os.path.basename(path)  \n",
    "    img = Image.open(path)\n",
    "    img = img.resize(sz, resample=Image.BILINEAR)\n",
    "    save_file(img, path, args=args, fn=fn)"
   ]
  },
  {
   "cell_type": "code",
   "execution_count": 5,
   "metadata": {},
   "outputs": [
    {
     "name": "stdout",
     "output_type": "stream",
     "text": [
      "images will be resized to (512, 512)\n"
     ]
    }
   ],
   "source": [
    "if args.sz: \n",
    "    print(\"images will be resized to ({}, {})\".format(args.sz, args.sz))\n",
    "    args.sz= int(args.sz)"
   ]
  },
  {
   "cell_type": "code",
   "execution_count": 6,
   "metadata": {},
   "outputs": [
    {
     "data": {
      "text/plain": [
       "1580470"
      ]
     },
     "execution_count": 6,
     "metadata": {},
     "output_type": "execute_result"
    }
   ],
   "source": [
    "images = list(Path(args.input_folder).rglob('*.jpg'))\n",
    "len(images)"
   ]
  },
  {
   "cell_type": "code",
   "execution_count": 7,
   "metadata": {},
   "outputs": [],
   "source": [
    "if not os.path.exists(args.output_folder):\n",
    "    os.makedirs(args.output_folder)\n",
    "# uncomment below to run\n",
    "# Parallel(n_jobs=64)(\n",
    "#     delayed(resize_image)(i, (args.sz, args.sz), args) for i in tqdm(images))"
   ]
  }
 ],
 "metadata": {
  "kernelspec": {
   "display_name": "Python 3",
   "language": "python",
   "name": "python3"
  },
  "language_info": {
   "codemirror_mode": {
    "name": "ipython",
    "version": 3
   },
   "file_extension": ".py",
   "mimetype": "text/x-python",
   "name": "python",
   "nbconvert_exporter": "python",
   "pygments_lexer": "ipython3",
   "version": "3.6.9"
  },
  "toc": {
   "base_numbering": 1,
   "nav_menu": {},
   "number_sections": true,
   "sideBar": true,
   "skip_h1_title": false,
   "title_cell": "Table of Contents",
   "title_sidebar": "Contents",
   "toc_cell": false,
   "toc_position": {},
   "toc_section_display": true,
   "toc_window_display": false
  }
 },
 "nbformat": 4,
 "nbformat_minor": 2
}
