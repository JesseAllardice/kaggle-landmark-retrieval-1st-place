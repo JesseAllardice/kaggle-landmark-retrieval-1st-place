{
 "cells": [
  {
   "cell_type": "markdown",
   "metadata": {},
   "source": [
    "In this notebook, we will create `TfRecords` from the 512x512 resized images from `nb_00`.\n",
    "\n",
    "Source: \n",
    "- [TensorFlow Docs](https://www.tensorflow.org/tutorials/load_data/tfrecord)\n",
    "- [How To Create TFRecords by Cdeotte](https://www.kaggle.com/cdeotte/how-to-create-tfrecords/#data)"
   ]
  },
  {
   "cell_type": "code",
   "execution_count": 1,
   "metadata": {},
   "outputs": [],
   "source": [
    "import numpy as np, pandas as pd, os\n",
    "import matplotlib.pyplot as plt, cv2\n",
    "import tensorflow as tf, re, math\n",
    "from pathlib import Path\n",
    "from PIL import Image"
   ]
  },
  {
   "cell_type": "code",
   "execution_count": 2,
   "metadata": {},
   "outputs": [],
   "source": [
    "PATH = '../data/train_512x512/'\n",
    "TRN_DF = pd.read_csv('../data/train.csv')\n",
    "\n",
    "# set this to True if TFRecords haven't been created\n",
    "CREATE_TF_RECORD = False"
   ]
  },
  {
   "cell_type": "code",
   "execution_count": 3,
   "metadata": {},
   "outputs": [],
   "source": [
    "# from TF docs\n",
    "def _bytes_feature(value):\n",
    "  \"\"\"Returns a bytes_list from a string / byte.\"\"\"\n",
    "  if isinstance(value, type(tf.constant(0))):\n",
    "    value = value.numpy() # BytesList won't unpack a string from an EagerTensor.\n",
    "  return tf.train.Feature(bytes_list=tf.train.BytesList(value=[value]))\n",
    "\n",
    "def _float_feature(value):\n",
    "  \"\"\"Returns a float_list from a float / double.\"\"\"\n",
    "  return tf.train.Feature(float_list=tf.train.FloatList(value=[value]))\n",
    "\n",
    "def _int64_feature(value):\n",
    "  \"\"\"Returns an int64_list from a bool / enum / int / uint.\"\"\"\n",
    "  return tf.train.Feature(int64_list=tf.train.Int64List(value=[value]))"
   ]
  },
  {
   "cell_type": "code",
   "execution_count": 4,
   "metadata": {},
   "outputs": [
    {
     "data": {
      "text/plain": [
       "(['../data/train_512x512/1/7/6/17660ef415d37059.jpg',\n",
       "  '../data/train_512x512/9/2/b/92b6290d571448f6.jpg',\n",
       "  '../data/train_512x512/c/d/4/cd41bf948edc0340.jpg',\n",
       "  '../data/train_512x512/f/b/0/fb09f1e98c6d2f70.jpg'],\n",
       " [1, 1, 1, 1])"
      ]
     },
     "execution_count": 4,
     "metadata": {},
     "output_type": "execute_result"
    }
   ],
   "source": [
    "IMG_PATHS = [os.path.join(PATH, id[0], id[1], id[2], id+'.jpg') for id in TRN_DF.id]\n",
    "TARGETS   = TRN_DF.landmark_id.values.tolist()\n",
    "IMG_PATHS[:4], TARGETS[:4]"
   ]
  },
  {
   "cell_type": "code",
   "execution_count": 5,
   "metadata": {},
   "outputs": [],
   "source": [
    "def serialize_example(feature0, feature1):\n",
    "  feature = {\n",
    "      'image': _bytes_feature(feature0),\n",
    "      'target': _int64_feature(feature1)\n",
    "  }\n",
    "  example_proto = tf.train.Example(features=tf.train.Features(feature=feature))\n",
    "  return example_proto.SerializeToString()"
   ]
  },
  {
   "cell_type": "code",
   "execution_count": 6,
   "metadata": {},
   "outputs": [
    {
     "data": {
      "text/plain": [
       "396"
      ]
     },
     "execution_count": 6,
     "metadata": {},
     "output_type": "execute_result"
    }
   ],
   "source": [
    "SIZE = 4000\n",
    "CT = len(IMG_PATHS)//SIZE + int(len(IMG_PATHS)%SIZE!=0)\n",
    "CT"
   ]
  },
  {
   "cell_type": "code",
   "execution_count": null,
   "metadata": {},
   "outputs": [],
   "source": [
    "%%time\n",
    "# this script takes around 3 hours to run\n",
    "if CREATE_TF_RECORD:\n",
    "    for j in range(CT):\n",
    "        print(); print('Writing TFRecord %i of %i...'%(j,CT))\n",
    "        CT2 = min(SIZE,len(IMG_PATHS)-j*SIZE)\n",
    "        with tf.io.TFRecordWriter('train%.2i-%i.tfrec'%(j,CT2)) as writer:\n",
    "            for k in range(CT2):\n",
    "                img = cv2.imread(IMG_PATHS[SIZE*j+k])\n",
    "                img = cv2.cvtColor(img, cv2.COLOR_RGB2BGR) # Fix incorrect colors\n",
    "                img = cv2.imencode('.jpg', img, (cv2.IMWRITE_JPEG_QUALITY, 94))[1].tostring()\n",
    "                target = TARGETS[SIZE*j+k]\n",
    "                example = serialize_example(\n",
    "                    img, target\n",
    "                )\n",
    "                writer.write(example)\n",
    "                if k%100==0: print(k,', ',end='')"
   ]
  }
 ],
 "metadata": {
  "kernelspec": {
   "display_name": "Python TF-GPU",
   "language": "python",
   "name": "tf-gpu"
  },
  "language_info": {
   "codemirror_mode": {
    "name": "ipython",
    "version": 3
   },
   "file_extension": ".py",
   "mimetype": "text/x-python",
   "name": "python",
   "nbconvert_exporter": "python",
   "pygments_lexer": "ipython3",
   "version": "3.8.5"
  },
  "toc": {
   "base_numbering": 1,
   "nav_menu": {},
   "number_sections": true,
   "sideBar": true,
   "skip_h1_title": false,
   "title_cell": "Table of Contents",
   "title_sidebar": "Contents",
   "toc_cell": false,
   "toc_position": {},
   "toc_section_display": true,
   "toc_window_display": false
  }
 },
 "nbformat": 4,
 "nbformat_minor": 2
}
